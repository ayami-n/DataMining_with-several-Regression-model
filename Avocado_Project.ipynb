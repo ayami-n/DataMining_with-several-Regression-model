{
  "nbformat": 4,
  "nbformat_minor": 0,
  "metadata": {
    "colab": {
      "name": "Avocado Project.ipynb",
      "provenance": [],
      "collapsed_sections": [],
      "authorship_tag": "ABX9TyNtq4pmq3RmH80c1X7aSGsm",
      "include_colab_link": true
    },
    "kernelspec": {
      "name": "python3",
      "display_name": "Python 3"
    },
    "language_info": {
      "name": "python"
    }
  },
  "cells": [
    {
      "cell_type": "markdown",
      "metadata": {
        "id": "view-in-github",
        "colab_type": "text"
      },
      "source": [
        "<a href=\"https://colab.research.google.com/github/ayami-n/DataMining_with-several-Regression-model/blob/main/Avocado_Project.ipynb\" target=\"_parent\"><img src=\"https://colab.research.google.com/assets/colab-badge.svg\" alt=\"Open In Colab\"/></a>"
      ]
    },
    {
      "cell_type": "markdown",
      "metadata": {
        "id": "-Ls9ZYjFe8ou"
      },
      "source": [
        "# Importing the libraries"
      ]
    },
    {
      "cell_type": "code",
      "metadata": {
        "id": "ckhx6t4z3BbR"
      },
      "source": [
        "import numpy as np\n",
        "import matplotlib.pyplot as plt\n",
        "import pandas as pd\n",
        "import seaborn as sns"
      ],
      "execution_count": null,
      "outputs": []
    },
    {
      "cell_type": "markdown",
      "metadata": {
        "id": "Fee8u8o2foXu"
      },
      "source": [
        "# Importing the dataset"
      ]
    },
    {
      "cell_type": "code",
      "metadata": {
        "id": "0r7I3KmhfnZw"
      },
      "source": [
        "data = pd.read_csv('Avocado.csv')\n",
        "data = data.drop(columns=['Unnamed: 0'])\n",
        "data"
      ],
      "execution_count": null,
      "outputs": []
    },
    {
      "cell_type": "markdown",
      "metadata": {
        "id": "yPrLW7x_Mawb"
      },
      "source": [
        "Check Missing Values"
      ]
    },
    {
      "cell_type": "code",
      "metadata": {
        "id": "d4PD762QQd9g"
      },
      "source": [
        "data.info()"
      ],
      "execution_count": null,
      "outputs": []
    },
    {
      "cell_type": "markdown",
      "metadata": {
        "id": "qajIcnAYMfN4"
      },
      "source": [
        "Check Values"
      ]
    },
    {
      "cell_type": "code",
      "metadata": {
        "id": "IrLjIkBlQdVZ",
        "colab": {
          "base_uri": "https://localhost:8080/",
          "height": 294
        },
        "outputId": "207185b3-b8c7-4959-b8bf-c4537310dcbd"
      },
      "source": [
        "data.describe()"
      ],
      "execution_count": null,
      "outputs": [
        {
          "output_type": "execute_result",
          "data": {
            "text/html": [
              "<div>\n",
              "<style scoped>\n",
              "    .dataframe tbody tr th:only-of-type {\n",
              "        vertical-align: middle;\n",
              "    }\n",
              "\n",
              "    .dataframe tbody tr th {\n",
              "        vertical-align: top;\n",
              "    }\n",
              "\n",
              "    .dataframe thead th {\n",
              "        text-align: right;\n",
              "    }\n",
              "</style>\n",
              "<table border=\"1\" class=\"dataframe\">\n",
              "  <thead>\n",
              "    <tr style=\"text-align: right;\">\n",
              "      <th></th>\n",
              "      <th>AveragePrice</th>\n",
              "      <th>Total Volume</th>\n",
              "      <th>4046</th>\n",
              "      <th>4225</th>\n",
              "      <th>4770</th>\n",
              "      <th>Total Bags</th>\n",
              "      <th>Small Bags</th>\n",
              "      <th>Large Bags</th>\n",
              "      <th>XLarge Bags</th>\n",
              "      <th>year</th>\n",
              "    </tr>\n",
              "  </thead>\n",
              "  <tbody>\n",
              "    <tr>\n",
              "      <th>count</th>\n",
              "      <td>18249.000000</td>\n",
              "      <td>1.824900e+04</td>\n",
              "      <td>1.824900e+04</td>\n",
              "      <td>1.824900e+04</td>\n",
              "      <td>1.824900e+04</td>\n",
              "      <td>1.824900e+04</td>\n",
              "      <td>1.824900e+04</td>\n",
              "      <td>1.824900e+04</td>\n",
              "      <td>18249.000000</td>\n",
              "      <td>18249.000000</td>\n",
              "    </tr>\n",
              "    <tr>\n",
              "      <th>mean</th>\n",
              "      <td>1.405978</td>\n",
              "      <td>8.506440e+05</td>\n",
              "      <td>2.930084e+05</td>\n",
              "      <td>2.951546e+05</td>\n",
              "      <td>2.283974e+04</td>\n",
              "      <td>2.396392e+05</td>\n",
              "      <td>1.821947e+05</td>\n",
              "      <td>5.433809e+04</td>\n",
              "      <td>3106.426507</td>\n",
              "      <td>2016.147899</td>\n",
              "    </tr>\n",
              "    <tr>\n",
              "      <th>std</th>\n",
              "      <td>0.402677</td>\n",
              "      <td>3.453545e+06</td>\n",
              "      <td>1.264989e+06</td>\n",
              "      <td>1.204120e+06</td>\n",
              "      <td>1.074641e+05</td>\n",
              "      <td>9.862424e+05</td>\n",
              "      <td>7.461785e+05</td>\n",
              "      <td>2.439660e+05</td>\n",
              "      <td>17692.894652</td>\n",
              "      <td>0.939938</td>\n",
              "    </tr>\n",
              "    <tr>\n",
              "      <th>min</th>\n",
              "      <td>0.440000</td>\n",
              "      <td>8.456000e+01</td>\n",
              "      <td>0.000000e+00</td>\n",
              "      <td>0.000000e+00</td>\n",
              "      <td>0.000000e+00</td>\n",
              "      <td>0.000000e+00</td>\n",
              "      <td>0.000000e+00</td>\n",
              "      <td>0.000000e+00</td>\n",
              "      <td>0.000000</td>\n",
              "      <td>2015.000000</td>\n",
              "    </tr>\n",
              "    <tr>\n",
              "      <th>25%</th>\n",
              "      <td>1.100000</td>\n",
              "      <td>1.083858e+04</td>\n",
              "      <td>8.540700e+02</td>\n",
              "      <td>3.008780e+03</td>\n",
              "      <td>0.000000e+00</td>\n",
              "      <td>5.088640e+03</td>\n",
              "      <td>2.849420e+03</td>\n",
              "      <td>1.274700e+02</td>\n",
              "      <td>0.000000</td>\n",
              "      <td>2015.000000</td>\n",
              "    </tr>\n",
              "    <tr>\n",
              "      <th>50%</th>\n",
              "      <td>1.370000</td>\n",
              "      <td>1.073768e+05</td>\n",
              "      <td>8.645300e+03</td>\n",
              "      <td>2.906102e+04</td>\n",
              "      <td>1.849900e+02</td>\n",
              "      <td>3.974383e+04</td>\n",
              "      <td>2.636282e+04</td>\n",
              "      <td>2.647710e+03</td>\n",
              "      <td>0.000000</td>\n",
              "      <td>2016.000000</td>\n",
              "    </tr>\n",
              "    <tr>\n",
              "      <th>75%</th>\n",
              "      <td>1.660000</td>\n",
              "      <td>4.329623e+05</td>\n",
              "      <td>1.110202e+05</td>\n",
              "      <td>1.502069e+05</td>\n",
              "      <td>6.243420e+03</td>\n",
              "      <td>1.107834e+05</td>\n",
              "      <td>8.333767e+04</td>\n",
              "      <td>2.202925e+04</td>\n",
              "      <td>132.500000</td>\n",
              "      <td>2017.000000</td>\n",
              "    </tr>\n",
              "    <tr>\n",
              "      <th>max</th>\n",
              "      <td>3.250000</td>\n",
              "      <td>6.250565e+07</td>\n",
              "      <td>2.274362e+07</td>\n",
              "      <td>2.047057e+07</td>\n",
              "      <td>2.546439e+06</td>\n",
              "      <td>1.937313e+07</td>\n",
              "      <td>1.338459e+07</td>\n",
              "      <td>5.719097e+06</td>\n",
              "      <td>551693.650000</td>\n",
              "      <td>2018.000000</td>\n",
              "    </tr>\n",
              "  </tbody>\n",
              "</table>\n",
              "</div>"
            ],
            "text/plain": [
              "       AveragePrice  Total Volume  ...    XLarge Bags          year\n",
              "count  18249.000000  1.824900e+04  ...   18249.000000  18249.000000\n",
              "mean       1.405978  8.506440e+05  ...    3106.426507   2016.147899\n",
              "std        0.402677  3.453545e+06  ...   17692.894652      0.939938\n",
              "min        0.440000  8.456000e+01  ...       0.000000   2015.000000\n",
              "25%        1.100000  1.083858e+04  ...       0.000000   2015.000000\n",
              "50%        1.370000  1.073768e+05  ...       0.000000   2016.000000\n",
              "75%        1.660000  4.329623e+05  ...     132.500000   2017.000000\n",
              "max        3.250000  6.250565e+07  ...  551693.650000   2018.000000\n",
              "\n",
              "[8 rows x 10 columns]"
            ]
          },
          "metadata": {},
          "execution_count": 3
        }
      ]
    },
    {
      "cell_type": "markdown",
      "metadata": {
        "id": "PWcH-pgoMn-w"
      },
      "source": [
        "Encoding Type"
      ]
    },
    {
      "cell_type": "code",
      "metadata": {
        "id": "AGlvsrIYg509"
      },
      "source": [
        "type_dict ={\"conventional\": 0, \"organic\": 1}\n",
        "data['type'] = [ type_dict[itr] for itr in data['type'] ]"
      ],
      "execution_count": null,
      "outputs": []
    },
    {
      "cell_type": "markdown",
      "metadata": {
        "id": "Nw_qOSPRMs-G"
      },
      "source": [
        "Check the first 5 values"
      ]
    },
    {
      "cell_type": "code",
      "metadata": {
        "id": "PJ2mrIoqQdL5"
      },
      "source": [
        "data.head()"
      ],
      "execution_count": null,
      "outputs": []
    },
    {
      "cell_type": "markdown",
      "metadata": {
        "id": "YkhS31yQQkk0"
      },
      "source": [
        "# Visualizing data (Target [Predict] is Average Price)"
      ]
    },
    {
      "cell_type": "code",
      "metadata": {
        "id": "yZvaGW3mQq6y"
      },
      "source": [
        "plt.figure(figsize=(12,10), dpi= 80)\n",
        "sns.heatmap(data.corr(), xticklabels=data.corr().columns, yticklabels=data.corr().columns, annot=True)\n",
        "plt.show()"
      ],
      "execution_count": null,
      "outputs": []
    },
    {
      "cell_type": "markdown",
      "metadata": {
        "id": "Cv3c6ePvM0B4"
      },
      "source": [
        "There are no relations between the average price and others. Assume that's wrong and investigate them with the year base and the region base."
      ]
    },
    {
      "cell_type": "code",
      "metadata": {
        "id": "2unlRsf7X8N6"
      },
      "source": [
        "corr_y=[]\n",
        "for itr in data['year'].unique():\n",
        "  corr_y.append(data.loc[data[\"year\"].isin([itr])].corrwith(data[\"AveragePrice\"]))\n",
        "print(corr_y)"
      ],
      "execution_count": null,
      "outputs": []
    },
    {
      "cell_type": "markdown",
      "metadata": {
        "id": "r-oer9iFdHeZ"
      },
      "source": [
        "investigate the yearly base, the results were the same as the original correlation."
      ]
    },
    {
      "cell_type": "markdown",
      "metadata": {
        "id": "UI8lCoPmR1aB"
      },
      "source": [
        "\n",
        "# Analyse Region Base\n"
      ]
    },
    {
      "cell_type": "markdown",
      "metadata": {
        "id": "lnwCFnYLLc8Y"
      },
      "source": [
        "Displaying Correlation Based on \"Region\" "
      ]
    },
    {
      "cell_type": "code",
      "metadata": {
        "id": "ADnfajm2Zm0h"
      },
      "source": [
        "corr=[]\n",
        "for itr in data['region'].unique():\n",
        "  corr.append(data.loc[data[\"region\"].isin([itr])].corrwith(data[\"AveragePrice\"]))\n",
        "  # print(itr,'\\n', data.loc[data[\"region\"].isin([itr])].corrwith(data[\"AveragePrice\"]))"
      ],
      "execution_count": null,
      "outputs": []
    },
    {
      "cell_type": "markdown",
      "metadata": {
        "id": "N_mQqw1PLnbR"
      },
      "source": [
        "Assume many values are negative because of the price. (negative is the price is going down.)"
      ]
    },
    {
      "cell_type": "code",
      "metadata": {
        "id": "KVsFN5w0GNG9"
      },
      "source": [
        "a = data.loc[data['region'].isin(['Albany'])]\n",
        "plt.scatter(x=a['Small Bags'],y=a['AveragePrice'])\n",
        "plt.show()"
      ],
      "execution_count": null,
      "outputs": []
    },
    {
      "cell_type": "markdown",
      "metadata": {
        "id": "2OttqTFPIsMR"
      },
      "source": [
        "From the plot, our assumptions were correct."
      ]
    },
    {
      "cell_type": "markdown",
      "metadata": {
        "id": "J7Zl9jvWOAzK"
      },
      "source": [
        "Check Outliers "
      ]
    },
    {
      "cell_type": "code",
      "metadata": {
        "id": "GfLCn0SDSF75"
      },
      "source": [
        "plt.figure(figsize=(15,8))\n",
        "sns.boxplot(x='region', y='AveragePrice', data=data)\n",
        "plt.xticks(rotation=90)"
      ],
      "execution_count": null,
      "outputs": []
    },
    {
      "cell_type": "markdown",
      "metadata": {
        "id": "vwqKQ4Sqgjj-"
      },
      "source": [
        "# Regression models"
      ]
    },
    {
      "cell_type": "markdown",
      "metadata": {
        "id": "wyVSFjwfKb-g"
      },
      "source": [
        "Converting all categoricals to numericals"
      ]
    },
    {
      "cell_type": "code",
      "metadata": {
        "id": "PKcQL2BjoMtM"
      },
      "source": [
        "# not apply for oneHot as the region has 54 unique values\n",
        "from sklearn.preprocessing import OrdinalEncoder \n",
        "ord_enc = OrdinalEncoder() \n",
        "data[\"region_code\"] = ord_enc.fit_transform(data[[\"region\"]])\n",
        "data= data.drop(columns=['region'])\n",
        "data.rename({'region_code': 'region'}, axis=1, inplace=True)"
      ],
      "execution_count": null,
      "outputs": []
    },
    {
      "cell_type": "code",
      "metadata": {
        "id": "1GpgvAOBR-JA"
      },
      "source": [
        "# drop off unrelated to columns based on the correlation values\n",
        "# but did not drop off \"region\" as we assume there are some relations between the price and region\n",
        "df = data.drop(columns=['XLarge Bags', 'year']) "
      ],
      "execution_count": null,
      "outputs": []
    },
    {
      "cell_type": "markdown",
      "metadata": {
        "id": "SqYKY3k9KXSg"
      },
      "source": [
        "Target is the Average Price"
      ]
    },
    {
      "cell_type": "code",
      "metadata": {
        "id": "No--eYTBQXDB"
      },
      "source": [
        "x = df.iloc[:, 2:].values\n",
        "y = df.iloc[:, 1].values"
      ],
      "execution_count": null,
      "outputs": []
    },
    {
      "cell_type": "markdown",
      "metadata": {
        "id": "nU15dleHKI8Y"
      },
      "source": [
        "Spliting Datasets"
      ]
    },
    {
      "cell_type": "code",
      "metadata": {
        "id": "KTEWLawWv2h8"
      },
      "source": [
        "from sklearn.model_selection import train_test_split\n",
        "x_train, x_test, y_train, y_test = train_test_split(x, y, test_size = 0.2, random_state=0)"
      ],
      "execution_count": null,
      "outputs": []
    },
    {
      "cell_type": "markdown",
      "metadata": {
        "id": "iiIcsD90J40A"
      },
      "source": [
        "Need standardization as the values are too different."
      ]
    },
    {
      "cell_type": "code",
      "metadata": {
        "id": "S2cwpRIvwcfP"
      },
      "source": [
        "from sklearn.preprocessing import StandardScaler\n",
        "sc = StandardScaler()\n",
        "x_train = sc.fit_transform(x_train)\n",
        "x_test = sc.transform(x_test) # Do not use fit_transform for the test"
      ],
      "execution_count": null,
      "outputs": []
    },
    {
      "cell_type": "markdown",
      "metadata": {
        "id": "BCg7Q8TAJszp"
      },
      "source": [
        "Train with default parameters in this round"
      ]
    },
    {
      "cell_type": "code",
      "metadata": {
        "id": "Leg22OcO1jfv"
      },
      "source": [
        "from sklearn.ensemble import RandomForestRegressor\n",
        "regressor = RandomForestRegressor(n_estimators=100, random_state=0)\n",
        "regressor.fit(x_train, y_train)\n",
        "y_pred = regressor.predict(x_test)"
      ],
      "execution_count": null,
      "outputs": []
    },
    {
      "cell_type": "markdown",
      "metadata": {
        "id": "Q77-mB5eILdp"
      },
      "source": [
        "For Comparing (Original)"
      ]
    },
    {
      "cell_type": "code",
      "metadata": {
        "id": "NB4rVJB8_lNW"
      },
      "source": [
        "ori_x = data.iloc[:, 2:].values\n",
        "ori_y = data.iloc[:, 1].values"
      ],
      "execution_count": null,
      "outputs": []
    },
    {
      "cell_type": "code",
      "metadata": {
        "id": "f8jbJS_OIXhR"
      },
      "source": [
        "ori_x_train, ori_x_test, ori_y_train, ori_y_test = train_test_split(ori_x, ori_y, test_size = 0.2, random_state=0)"
      ],
      "execution_count": null,
      "outputs": []
    },
    {
      "cell_type": "code",
      "metadata": {
        "id": "A1kGvG0eIZas"
      },
      "source": [
        "ori_x_train = sc.fit_transform(ori_x_train)\n",
        "ori_x_test = sc.transform(ori_x_test)"
      ],
      "execution_count": null,
      "outputs": []
    },
    {
      "cell_type": "code",
      "metadata": {
        "id": "qaY5QdwLBTT7"
      },
      "source": [
        "ori_regressor = RandomForestRegressor(n_estimators=100, random_state=0)\n",
        "ori_regressor.fit(ori_x_train, ori_y_train)\n",
        "ori_y_pred = ori_regressor.predict(ori_x_test)"
      ],
      "execution_count": null,
      "outputs": []
    },
    {
      "cell_type": "markdown",
      "metadata": {
        "id": "FxnHcXcGVVSr"
      },
      "source": [
        "SVR"
      ]
    },
    {
      "cell_type": "code",
      "metadata": {
        "id": "xbTdZZUhV89O"
      },
      "source": [
        "from sklearn.svm import SVR\n",
        "svr = SVR(kernel='rbf')\n",
        "svr.fit(x_train, y_train)\n",
        "sy_pred = svr.predict(x_test)"
      ],
      "execution_count": null,
      "outputs": []
    },
    {
      "cell_type": "markdown",
      "metadata": {
        "id": "tt08oTwl7rJV"
      },
      "source": [
        "# Evaluation\n",
        "\n",
        "\n"
      ]
    },
    {
      "cell_type": "code",
      "metadata": {
        "colab": {
          "base_uri": "https://localhost:8080/"
        },
        "id": "vTbzaX6P3HYX",
        "outputId": "d2648118-2f40-4d8a-8e02-d8640b89bde3"
      },
      "source": [
        "from sklearn.metrics import mean_absolute_error\n",
        "print('selected $%.2f is different(avg)' %mean_absolute_error(y_test, y_pred))\n",
        "print('original $%.2f is different(avg)' %mean_absolute_error(ori_y_test, ori_y_pred))\n",
        "print('selected SVR $%.2f is different(avg)' %mean_absolute_error(y_test, sy_pred))\n",
        "\n",
        "line = mean_absolute_error(ori_y_test, ori_y_pred) # keep this as threshold values"
      ],
      "execution_count": null,
      "outputs": [
        {
          "output_type": "stream",
          "name": "stdout",
          "text": [
            "selected $0.12 is different(avg)\n",
            "original $0.11 is different(avg)\n",
            "selected SVR $0.22 is different(avg)\n"
          ]
        }
      ]
    },
    {
      "cell_type": "markdown",
      "metadata": {
        "id": "Qr55-ciLJMko"
      },
      "source": [
        "In this case, the original (more features) is better. \n"
      ]
    },
    {
      "cell_type": "markdown",
      "metadata": {
        "id": "Si03Gj8PIApE"
      },
      "source": [
        "# Local Base"
      ]
    },
    {
      "cell_type": "code",
      "metadata": {
        "id": "zt6EHSQiigit"
      },
      "source": [
        "def select_col (itr):\n",
        "  index = 0\n",
        "  a = np.array(corr)\n",
        "  col = []\n",
        "  threshold = 0.5 # modelat values\n",
        "  \n",
        "  for i in a[itr]:\n",
        "    index += 1\n",
        "\n",
        "    if i < -threshold or (1 > i > threshold):\n",
        "      col.append(index)\n",
        "        \n",
        "  return col"
      ],
      "execution_count": null,
      "outputs": []
    },
    {
      "cell_type": "markdown",
      "metadata": {
        "id": "5SZzxmVRopim"
      },
      "source": [
        "focus to specific 'region'"
      ]
    },
    {
      "cell_type": "code",
      "metadata": {
        "id": "lh75IiSHUhBu",
        "colab": {
          "base_uri": "https://localhost:8080/",
          "height": 813
        },
        "outputId": "b8e2f9ff-dfcf-49d5-bb63-c6ef969604de"
      },
      "source": [
        "region = []\n",
        "price = []\n",
        "\n",
        "for itr in data['region'].unique():\n",
        "  local_f = data.loc[df['region'].isin([itr])]\n",
        "  cols = select_col(int(itr))\n",
        "\n",
        "  x = local_f.iloc[:, cols].values\n",
        "  y = local_f.iloc[:, 1].values\n",
        "\n",
        "  x_train, x_test, y_train, y_test = train_test_split(x, y, test_size = 0.2, random_state=0)\n",
        "\n",
        "  sc = StandardScaler()\n",
        "  x_train = sc.fit_transform(x_train)\n",
        "  x_test = sc.transform(x_test) # Do not use fit_transform for the test\n",
        "\n",
        "  regressor = RandomForestRegressor(n_estimators=100, random_state=0)\n",
        "  regressor.fit(x_train, y_train)\n",
        "  y_pred = regressor.predict(x_test)\n",
        "\n",
        "  region.append(ord_enc.inverse_transform([[itr]]))\n",
        "  price.append(mean_absolute_error(y_test, y_pred))\n",
        "  # print('selected $%.2f is different(avg)' %mean_absolute_error(y_test, y_pred), ord_enc.inverse_transform([[itr]]))\n",
        "\n",
        "plt.figure(figsize=(15,10))\n",
        "sns.barplot(np.array(region).flatten(), price)\n",
        "plt.axhline(y=line, color='k', linestyle='-')\n",
        "plt.xticks(rotation=90)"
      ],
      "execution_count": null,
      "outputs": [
        {
          "output_type": "stream",
          "name": "stderr",
          "text": [
            "/usr/local/lib/python3.7/dist-packages/seaborn/_decorators.py:43: FutureWarning: Pass the following variables as keyword args: x, y. From version 0.12, the only valid positional argument will be `data`, and passing other arguments without an explicit keyword will result in an error or misinterpretation.\n",
            "  FutureWarning\n"
          ]
        },
        {
          "output_type": "execute_result",
          "data": {
            "text/plain": [
              "(array([ 0,  1,  2,  3,  4,  5,  6,  7,  8,  9, 10, 11, 12, 13, 14, 15, 16,\n",
              "        17, 18, 19, 20, 21, 22, 23, 24, 25, 26, 27, 28, 29, 30, 31, 32, 33,\n",
              "        34, 35, 36, 37, 38, 39, 40, 41, 42, 43, 44, 45, 46, 47, 48, 49, 50,\n",
              "        51, 52, 53]), <a list of 54 Text major ticklabel objects>)"
            ]
          },
          "metadata": {},
          "execution_count": 20
        },
        {
          "output_type": "display_data",
          "data": {
            "image/png": "[encoded data removed]",
            "text/plain": [
              "<Figure size 1080x720 with 1 Axes>"
            ]
          },
          "metadata": {
            "needs_background": "light"
          }
        }
      ]
    },
    {
      "cell_type": "markdown",
      "metadata": {
        "id": "cogEswI4hWkN"
      },
      "source": [
        "We check the outlier's effectiveness with SVR."
      ]
    },
    {
      "cell_type": "code",
      "metadata": {
        "id": "Vh5BVuT2dNTC",
        "colab": {
          "base_uri": "https://localhost:8080/",
          "height": 813
        },
        "outputId": "590224bb-0f8e-4cb7-ef6a-941042a0f735"
      },
      "source": [
        "svr_region = []\n",
        "svr_price = []\n",
        "\n",
        "for itr in data['region'].unique():\n",
        "  local_s = data.loc[df['region'].isin([itr])]\n",
        "  svr_cols = select_col(int(itr))\n",
        "\n",
        "  x = local_s.iloc[:, svr_cols].values\n",
        "  y = local_s.iloc[:, 1].values\n",
        "  x_train, x_test, y_train, y_test = train_test_split(x, y, test_size = 0.2, random_state=0)\n",
        "\n",
        "  sc = StandardScaler()\n",
        "  x_train = sc.fit_transform(x_train)\n",
        "  x_test = sc.transform(x_test) # Do not use fit_transform for the test\n",
        "\n",
        "  svr = SVR(kernel='rbf')\n",
        "  svr.fit(x_train, y_train)\n",
        "  sy_pred = svr.predict(x_test)\n",
        "\n",
        "  svr_region.append(ord_enc.inverse_transform([[itr]]))\n",
        "  svr_price.append(mean_absolute_error(y_test, sy_pred))\n",
        "\n",
        "  # print('selected $%.2f is different(avg)' %mean_absolute_error(y_test, sy_pred), ord_enc.inverse_transform([[itr]]))\n",
        "\n",
        "plt.figure(figsize=(15,10))\n",
        "sns.barplot(np.array(svr_region).flatten(), svr_price)\n",
        "plt.axhline(y=line, color='k', linestyle='-')\n",
        "plt.xticks(rotation=90)"
      ],
      "execution_count": null,
      "outputs": [
        {
          "output_type": "stream",
          "name": "stderr",
          "text": [
            "/usr/local/lib/python3.7/dist-packages/seaborn/_decorators.py:43: FutureWarning: Pass the following variables as keyword args: x, y. From version 0.12, the only valid positional argument will be `data`, and passing other arguments without an explicit keyword will result in an error or misinterpretation.\n",
            "  FutureWarning\n"
          ]
        },
        {
          "output_type": "execute_result",
          "data": {
            "text/plain": [
              "(array([ 0,  1,  2,  3,  4,  5,  6,  7,  8,  9, 10, 11, 12, 13, 14, 15, 16,\n",
              "        17, 18, 19, 20, 21, 22, 23, 24, 25, 26, 27, 28, 29, 30, 31, 32, 33,\n",
              "        34, 35, 36, 37, 38, 39, 40, 41, 42, 43, 44, 45, 46, 47, 48, 49, 50,\n",
              "        51, 52, 53]), <a list of 54 Text major ticklabel objects>)"
            ]
          },
          "metadata": {},
          "execution_count": 21
        },
        {
          "output_type": "display_data",
          "data": {
            "image/png": "[encoded data removed]",
            "text/plain": [
              "<Figure size 1080x720 with 1 Axes>"
            ]
          },
          "metadata": {
            "needs_background": "light"
          }
        }
      ]
    },
    {
      "cell_type": "markdown",
      "metadata": {
        "id": "PTlNUE9FDkhf"
      },
      "source": [
        "# Evaluation"
      ]
    },
    {
      "cell_type": "code",
      "metadata": {
        "colab": {
          "base_uri": "https://localhost:8080/"
        },
        "id": "gC2Q6FjCC4Ww",
        "outputId": "af8ce066-8387-4d6c-deae-9e9e58d29a51"
      },
      "source": [
        "print('original $%.2f is different(avg)' %line)\n",
        "print('selected_local $%.2f is different(avg)' %(sum(price)/len(price)))\n",
        "print('selected_local SVR $%.2f is different(avg)' %(sum(svr_price)/len(svr_price)))"
      ],
      "execution_count": null,
      "outputs": [
        {
          "output_type": "stream",
          "name": "stdout",
          "text": [
            "original $0.11 is different(avg)\n",
            "selected_local $0.08 is different(avg)\n",
            "selected_local SVR $0.11 is different(avg)\n"
          ]
        }
      ]
    },
    {
      "cell_type": "markdown",
      "metadata": {
        "id": "hJxS_kELpK3M"
      },
      "source": [
        "In this case, local base is best. "
      ]
    },
    {
      "cell_type": "markdown",
      "metadata": {
        "id": "ID15fu_9HFsV"
      },
      "source": [
        "ANN"
      ]
    },
    {
      "cell_type": "code",
      "metadata": {
        "id": "Ol82ZqhsHJK3"
      },
      "source": [
        "from sklearn.model_selection import train_test_split\n",
        "from sklearn.preprocessing import Normalizer\n",
        "from sklearn.preprocessing import StandardScaler\n",
        "import tensorflow as tf\n",
        "from tensorflow import keras\n",
        "from tensorflow.keras import layers\n",
        "from sklearn.metrics import mean_absolute_error"
      ],
      "execution_count": null,
      "outputs": []
    },
    {
      "cell_type": "code",
      "metadata": {
        "id": "TlP47wmENh67"
      },
      "source": [
        "ann_x = data.iloc[:, 2:].values\n",
        "ann_y = data.iloc[:, 1].values"
      ],
      "execution_count": null,
      "outputs": []
    },
    {
      "cell_type": "code",
      "metadata": {
        "id": "5w70nr4YWNj-"
      },
      "source": [
        "ann_x_train, ann_x_test, ann_y_train, ann_y_test = train_test_split(ann_x, ann_y, test_size = 0.2, random_state=0)"
      ],
      "execution_count": null,
      "outputs": []
    },
    {
      "cell_type": "code",
      "metadata": {
        "id": "Gco6LNkuWNQc"
      },
      "source": [
        "no = Normalizer()\n",
        "ann_x_train = no.fit_transform(ann_x_train)\n",
        "ann_x_test = no.transform(ann_x_test)"
      ],
      "execution_count": null,
      "outputs": []
    },
    {
      "cell_type": "code",
      "metadata": {
        "id": "mCSwZUzSeqLA"
      },
      "source": [
        "sd = StandardScaler()\n",
        "ann_x_train = sd.fit_transform(ann_x_train)\n",
        "ann_x_test = sd.transform(ann_x_test)"
      ],
      "execution_count": null,
      "outputs": []
    },
    {
      "cell_type": "markdown",
      "metadata": {
        "id": "u83m7ItCMS4A"
      },
      "source": [
        "Build the model"
      ]
    },
    {
      "cell_type": "code",
      "metadata": {
        "id": "MqtsEdRmli1m"
      },
      "source": [
        "# Initializing the ANN\n",
        "ann = tf.keras.models.Sequential([   \n",
        "  tf.keras.layers.Dense(200, activation='relu'),\n",
        "  tf.keras.layers.Dropout(0.2),\n",
        "  tf.keras.layers.Dense(100, activation='relu'),   \n",
        "  tf.keras.layers.Dense(50, activation='relu'), \n",
        "  tf.keras.layers.Dense(1) \n",
        "])\n"
      ],
      "execution_count": null,
      "outputs": []
    },
    {
      "cell_type": "markdown",
      "metadata": {
        "id": "n7mCG_bINJC9"
      },
      "source": [
        "Compile and fit"
      ]
    },
    {
      "cell_type": "code",
      "metadata": {
        "id": "QON8EGhBTifD"
      },
      "source": [
        "ann.compile(optimizer=tf.keras.optimizers.Adam(0.001), loss='mae')"
      ],
      "execution_count": null,
      "outputs": []
    },
    {
      "cell_type": "code",
      "metadata": {
        "id": "Tj3nHOwul2DN"
      },
      "source": [
        "r = ann.fit(ann_x_train, ann_y_train, batch_size=512, epochs=1000)"
      ],
      "execution_count": null,
      "outputs": []
    },
    {
      "cell_type": "markdown",
      "metadata": {
        "id": "GokcQ4p1NooY"
      },
      "source": [
        "Plot the loss"
      ]
    },
    {
      "cell_type": "code",
      "metadata": {
        "id": "yME5WPt3Nsd0"
      },
      "source": [
        "plt.plot(r.history['loss'], label='loss')\n",
        "plt.show()"
      ],
      "execution_count": null,
      "outputs": []
    },
    {
      "cell_type": "code",
      "metadata": {
        "id": "NbprbpkmRa-I"
      },
      "source": [
        "print('selected ann $%.2f is different(avg)' %mean_absolute_error(ann_y_test, ann.predict(ann_x_test)))"
      ],
      "execution_count": null,
      "outputs": []
    },
    {
      "cell_type": "markdown",
      "metadata": {
        "id": "7jqcn8YYmTDE"
      },
      "source": [
        "In this case, the StandardScaler is better than the Normalizer. however, local base models are simple and best models. "
      ]
    }
  ]
}